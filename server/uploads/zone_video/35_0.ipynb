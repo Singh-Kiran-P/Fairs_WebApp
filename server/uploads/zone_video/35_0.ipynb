{
 "cells": [
  {
   "cell_type": "markdown",
   "metadata": {},
   "source": [
    "# Section 1 "
   ]
  },
  {
   "cell_type": "markdown",
   "metadata": {},
   "source": [
    "1. Read in the datasets `coach_table.xlsx` and `match_schedule.xlsx` into Python as pandas DataFrames. Identify the coaches who did not coach their own country at the FIFA 2018 world cup."
   ]
  },
  {
   "cell_type": "markdown",
   "metadata": {},
   "source": [
    "2. Split the name column into `First` and `Last` names, adding these two columns to the `coach` table. All **capitalised names** should be treated as last names. For instance, the first name of `Bert VAN MARWIJK` is `Bert`. His last name is `VAN MARWIJK`. Some coaches will not have a first name. You will be given less credit if you use a `for` loop, or if you hard code cases."
   ]
  },
  {
   "cell_type": "markdown",
   "metadata": {},
   "source": [
    "3. Merge the `coach` table with the `match_schedule`, creating two new columns: last name of home team coach, and last name of away team coach."
   ]
  },
  {
   "cell_type": "code",
   "execution_count": 1,
   "metadata": {},
   "outputs": [],
   "source": [
    "#possible to use append function?"
   ]
  },
  {
   "cell_type": "markdown",
   "metadata": {},
   "source": [
    "# Section 2 \n",
    "\n",
    "## Introduction\n",
    "\n",
    "The dataset `new-registration-of-cars-by-make.csv` was obtained from https://data.gov.sg. It contains information on the monthly number of cars registered in Singapore that are of a particular fuel type, vehicle type and make. It spans a period of about 2 years."
   ]
  },
  {
   "cell_type": "markdown",
   "metadata": {},
   "source": [
    "1. Read the data in as a DataFrame and date column into a datetime object using `pd.to_datetime()`."
   ]
  },
  {
   "cell_type": "markdown",
   "metadata": {},
   "source": [
    "2. The vehicle type 'Coupe/ Convertible' is sometimes spelt as 'Coupe/Convertible' in the dataset. Convert all the latter to the former."
   ]
  },
  {
   "cell_type": "markdown",
   "metadata": {},
   "source": [
    "3. How many vehicle types are there? Summing `number` over **this** dataset, which *vehicle type* has the highest count, and which has the least?"
   ]
  },
  {
   "cell_type": "markdown",
   "metadata": {},
   "source": [
    "4. Create a contingency table with *fuel type* in the columns and *vehicle type* in the rows. The entries in the table should be the total count (over the two years) of such vehicles. Are the two factors *fuel type* and *vehicle type* statistically independent of one another?"
   ]
  },
  {
   "cell_type": "markdown",
   "metadata": {},
   "source": [
    "# Section 3 "
   ]
  },
  {
   "cell_type": "markdown",
   "metadata": {},
   "source": [
    "Implement a simulation that can assist to study the [birthday paradox](https://en.wikipedia.org/wiki/Birthday_problem). You may follow the link to learn more about it, but for today here's what you need to do:\n",
    "\n",
    "Assume that birthdays of individuals are uniformly distributed over the 365 days in a year - assume that the year is not a leap year, and that it begins on a Monday. We define a calendar week to be the seven days from Monday to Sunday. \n",
    "\n",
    "Suppose there are $n$ people in a room. How large does have $n$ have to be in order for the probability that there are at least 2 people with their birthdays within the same calendar week to be more than 0.5? How about if I would like at least 3 people to have their birthday within the same week? You should include a visualisation in your answer."
   ]
  }
 ],
 "metadata": {
  "kernelspec": {
   "display_name": "Python 3",
   "language": "python",
   "name": "python3"
  },
  "language_info": {
   "codemirror_mode": {
    "name": "ipython",
    "version": 3
   },
   "file_extension": ".py",
   "mimetype": "text/x-python",
   "name": "python",
   "nbconvert_exporter": "python",
   "pygments_lexer": "ipython3",
   "version": "3.7.6"
  }
 },
 "nbformat": 4,
 "nbformat_minor": 4
}
